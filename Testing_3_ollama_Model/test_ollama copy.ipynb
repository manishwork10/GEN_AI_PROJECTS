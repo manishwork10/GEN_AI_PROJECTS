{
 "cells": [
  {
   "cell_type": "code",
   "execution_count": 4,
   "id": "68912934",
   "metadata": {},
   "outputs": [
    {
     "name": "stdout",
     "output_type": "stream",
     "text": [
      "Welcome to Simple Ollama Q&A!\n",
      "Type 'exit' to quit.\n",
      "Exiting. Goodbye!\n"
     ]
    }
   ],
   "source": [
    "# To do the same we did in the terminal in the code to understand how the ans and queries are executed\n",
    "import requests\n",
    "import json\n",
    "\n",
    "def get_ollama_response(prompt, model=\"llama3.2\"):\n",
    "    url = \"http://localhost:11434/api/generate\"\n",
    "    # 11434: This is the default port that Ollama uses to listen for API requests.\n",
    "    headers = {\"Content-Type\": \"application/json\"}\n",
    "    data = {\n",
    "        \"model\": model,\n",
    "        \"prompt\": prompt,\n",
    "        \"stream\": False\n",
    "    }\n",
    "    \n",
    "    try:\n",
    "        response = requests.post(url, headers=headers, data=json.dumps(data))\n",
    "        response.raise_for_status()\n",
    "        return response.json()[\"response\"]\n",
    "    except Exception as e:\n",
    "        return f\"Error: {e}. Make sure Ollama is running and '{model}' is pulled.\"\n",
    "\n",
    "print(\"Welcome to Simple Ollama Q&A!\")\n",
    "print(\"Type 'exit' to quit.\")\n",
    "\n",
    "user_question = ''\n",
    "while True and user_question.lower() != 'bye':\n",
    "    user_question = input(\"\\nAsk a question: \")\n",
    "    \n",
    "    if user_question.lower() == 'bye':\n",
    "        print(\"Exiting. Goodbye!\")\n",
    "        break\n",
    "    \n",
    "    answer = get_ollama_response(user_question)\n",
    "    print(f\"Answer: {answer}\")"
   ]
  },
  {
   "cell_type": "code",
   "execution_count": null,
   "id": "67526db4",
   "metadata": {},
   "outputs": [],
   "source": [
    "# from googlesearch import search\n",
    "# import requests"
   ]
  },
  {
   "cell_type": "code",
   "execution_count": null,
   "id": "339af652",
   "metadata": {},
   "outputs": [],
   "source": [
    "\n",
    " #Written by sir.\n",
    "# results= search(\"Messi\", num_results=10 )\n",
    "# all_content =''\n",
    "# for each in results:\n",
    "#     print(f\"Fetching content from: {each}\")\n",
    "#     content= requests.get(each).text\n",
    "#     print(content)\n",
    "#     all_content += content"
   ]
  },
  {
   "cell_type": "code",
   "execution_count": 5,
   "id": "dfc5131b",
   "metadata": {},
   "outputs": [],
   "source": [
    "import os\n",
    "import requests\n",
    "from urllib.robotparser import RobotFileParser\n",
    "from urllib.parse import urlparse\n",
    "from googlesearch import search\n",
    "import time\n",
    "import re\n",
    "\n",
    "def is_scraping_allowed(url, user_agent=\"*\"):\n",
    "    try:\n",
    "        parsed = urlparse(url)\n",
    "        robots_url = f\"{parsed.scheme}://{parsed.netloc}/robots.txt\"\n",
    "        rp = RobotFileParser()\n",
    "        rp.set_url(robots_url)\n",
    "        rp.read()\n",
    "        return rp.can_fetch(user_agent, url)\n",
    "    except:\n",
    "        return False  # Safer to assume not allowed\n",
    "\n",
    "def sanitize_filename(url):\n",
    "    \"\"\"Create a safe filename from a URL.\"\"\"\n",
    "    filename = re.sub(r'\\W+', '_', url)\n",
    "    return filename[:100] + \".html\"\n",
    "\n",
    "def collect_raw_html(query, num_results=5):\n",
    "    \"\"\"\n",
    "    Searches Google for the query, fetches raw HTML from allowed sites,\n",
    "    and saves them in a folder called 'html_ollama_folder'.\n",
    "    \"\"\"\n",
    "    # Create folder if it doesn't exist\n",
    "    folder_name = \"html_ollama_folder\"\n",
    "    os.makedirs(folder_name, exist_ok=True)\n",
    "\n",
    "    collected = 0\n",
    "    seen = set()\n",
    "    search_results = list(search(query, num_results=30))  # over-fetch\n",
    "    url_to_file = {}\n",
    "\n",
    "    for url in search_results:\n",
    "        if collected >= num_results:\n",
    "            break\n",
    "        if url in seen:\n",
    "            continue\n",
    "        seen.add(url)\n",
    "\n",
    "        print(f\"\\n🔍 Trying: {url}\")\n",
    "\n",
    "        if not is_scraping_allowed(url):\n",
    "            print(f\"❌ Not allowed by robots.txt: {url}\")\n",
    "            continue\n",
    "\n",
    "        try:\n",
    "            response = requests.get(url, headers={\"User-Agent\": \"Mozilla/5.0\"}, timeout=10)\n",
    "            if response.status_code == 200:\n",
    "                filename = sanitize_filename(url)\n",
    "                file_path = os.path.join(folder_name, filename)\n",
    "                url_to_file[url] = file_path\n",
    "\n",
    "                with open(file_path, \"w\", encoding=\"utf-8\") as f:\n",
    "                    f.write(response.text)\n",
    "\n",
    "                print(f\"✅ Saved: {file_path}\")\n",
    "                collected += 1\n",
    "                time.sleep(1)  # Be polite\n",
    "            else:\n",
    "                print(f\"⚠️ Status code {response.status_code}: {url}\")\n",
    "        except Exception as e:\n",
    "            print(f\"🚫 Error fetching {url}: {e}\")\n",
    "\n",
    "    print(f\"\\n✅ Total collected: {collected}/{num_results}\")\n",
    "    return url_to_file\n",
    "\n"
   ]
  },
  {
   "cell_type": "code",
   "execution_count": 6,
   "id": "35bf83aa",
   "metadata": {},
   "outputs": [
    {
     "name": "stdout",
     "output_type": "stream",
     "text": [
      "\n",
      "🔍 Trying: https://www.beinsports.com/en-us/soccer/la-liga/articles/could-messi-return-to-barcelona-in-2026-before-the-world-cup-2025-06-30\n",
      "❌ Not allowed by robots.txt: https://www.beinsports.com/en-us/soccer/la-liga/articles/could-messi-return-to-barcelona-in-2026-before-the-world-cup-2025-06-30\n",
      "\n",
      "🔍 Trying: https://en.wikipedia.org/wiki/Lionel_Messi\n",
      "✅ Saved: html_ollama_folder/https_en_wikipedia_org_wiki_Lionel_Messi.html\n",
      "\n",
      "🔍 Trying: https://www.transfermarkt.com/lionel-messi/profil/spieler/28003\n",
      "❌ Not allowed by robots.txt: https://www.transfermarkt.com/lionel-messi/profil/spieler/28003\n",
      "\n",
      "🔍 Trying: https://x.com/WeAreMessi?ref_src=twsrc%5Egoogle%7Ctwcamp%5Eserp%7Ctwgr%5Eauthor\n",
      "❌ Not allowed by robots.txt: https://x.com/WeAreMessi?ref_src=twsrc%5Egoogle%7Ctwcamp%5Eserp%7Ctwgr%5Eauthor\n",
      "\n",
      "🔍 Trying: https://www.instagram.com/leomessi/\n",
      "❌ Not allowed by robots.txt: https://www.instagram.com/leomessi/\n",
      "\n",
      "🔍 Trying: http://google.com/search?tbm=isch&q=Lionel+Messi\n",
      "❌ Not allowed by robots.txt: http://google.com/search?tbm=isch&q=Lionel+Messi\n",
      "\n",
      "🔍 Trying: https://www.britannica.com/biography/Lionel-Messi\n",
      "✅ Saved: html_ollama_folder/https_www_britannica_com_biography_Lionel_Messi.html\n",
      "\n",
      "🔍 Trying: https://www.espn.com/soccer/story/_/id/45627646/zlatan-ibrahimovic-lionel-messi-plays-statues-inter-miami\n",
      "✅ Saved: html_ollama_folder/https_www_espn_com_soccer_story___id_45627646_zlatan_ibrahimovic_lionel_messi_plays_statues_inter_mi.html\n",
      "\n",
      "🔍 Trying: https://www.bbc.com/sport/football/articles/czxe02expnwo\n",
      "✅ Saved: html_ollama_folder/https_www_bbc_com_sport_football_articles_czxe02expnwo.html\n",
      "\n",
      "🔍 Trying: https://www.intermiamicf.com/players/lionel-messi/\n",
      "✅ Saved: html_ollama_folder/https_www_intermiamicf_com_players_lionel_messi_.html\n",
      "\n",
      "✅ Total collected: 5/5\n"
     ]
    }
   ],
   "source": [
    "# Collect 5 raw HTML pages related to Messi\n",
    "html_pages = collect_raw_html(\"Messi\", num_results=5)\n",
    "\n",
    "\n"
   ]
  },
  {
   "cell_type": "code",
   "execution_count": 7,
   "id": "0a6244bb",
   "metadata": {},
   "outputs": [
    {
     "name": "stdout",
     "output_type": "stream",
     "text": [
      "html_ollama_folder/https_en_wikipedia_org_wiki_Lionel_Messi.html\n",
      "html_ollama_folder/https_en_wikipedia_org_wiki_Lionel_Messi.html\n",
      "\n",
      "html_ollama_folder/https_www_britannica_com_biography_Lionel_Messi.html\n",
      "\n",
      "html_ollama_folder/https_www_espn_com_soccer_story___id_45627646_zlatan_ibrahimovic_lionel_messi_plays_statues_inter_mi.html\n",
      "\n",
      "html_ollama_folder/https_www_bbc_com_sport_football_articles_czxe02expnwo.html\n",
      "\n",
      "html_ollama_folder/https_www_intermiamicf_com_players_lionel_messi_.html\n",
      "\n",
      "\n"
     ]
    }
   ],
   "source": [
    "# Get the first HTML content from the dictionary and print 500 chars\n",
    "first_html = next(iter(html_pages.values()))\n",
    "print(first_html[:500])\n",
    "# But the given system prompt will be in string, but the html content is in dictionary so transfering it into string.\n",
    "all_html_combined = \"\"\n",
    "\n",
    "for html in html_pages.values():\n",
    "    all_html_combined += html + \"\\n\\n\"  # Optional spacing between pages\n",
    "\n",
    "# Now you can use it like a normal string\n",
    "print(all_html_combined[:500])\n"
   ]
  },
  {
   "cell_type": "code",
   "execution_count": 11,
   "id": "3b35ad0d",
   "metadata": {},
   "outputs": [],
   "source": [
    "all_content= \"From the following HTML content, first remove all HTML tags to extract only the clean, readable text. Then, identify and extract only the sentences or paragraphs that mention the keyword 'Messi'. Ignore any unrelated content or HTML markup. Return a concise and focused textual summary containing only relevant information about Messi\" + all_html_combined"
   ]
  },
  {
   "cell_type": "code",
   "execution_count": 15,
   "id": "cef47fd7",
   "metadata": {},
   "outputs": [],
   "source": [
    "processed_text= get_ollama_response(all_content)"
   ]
  },
  {
   "cell_type": "code",
   "execution_count": 16,
   "id": "3a2d6b1d",
   "metadata": {},
   "outputs": [
    {
     "data": {
      "text/plain": [
       "\"Here is the clean, readable text extracted from the HTML content:\\n\\nOriginal text without HTML tags:\\n\\nLionel Messi is a professional soccer player born on June 24, 1987 in Rosario, Argentina. He plays as a forward for Paris Saint-Germain and the Argentina national team.\\n\\nMessi began playing football at a young age and joined the youth academy of Newell's Old Boys at the age of five. In 2000, he moved to Barcelona, where he made his professional debut in 2004.\\n\\nIn 2011, Messi won the Ballon d'Or award for the first time. He has since become one of the most successful players in the history of the tournament, winning it a record-breaking seven times.\\n\\nMessi has also had a successful international career, leading Argentina to the final of the 2020 Copa America. However, he and his team lost to Brazil in the final.\\n\\nIn addition to his on-field success, Messi is known for his charitable work off the field. He has supported various causes, including education and healthcare initiatives.\\n\\nZlatan Ibrahimović also talks about how he and Messi play statues inter Mi.\\n\\nThere are many rumors that Zlatan Ibrahimović and Messi have played statues inter in an interview.\\nHowever, this can't be confirmed as it is a rumor.\\n\\nIn 2021, it was announced that Messi would be joining Paris Saint-Germain on a free transfer from Barcelona. The news sparked widespread excitement among fans, with many hailing the move as a masterstroke by the club's new ownership.\\n\\nNow, let's extract only the sentences or paragraphs that mention the keyword 'Messi':\\n\\n* Lionel Messi is a professional soccer player born on June 24, 1987 in Rosario, Argentina. He plays as a forward for Paris Saint-Germain and the Argentina national team.\\n* In 2011, Messi won the Ballon d'Or award for the first time. He has since become one of the most successful players in the history of the tournament, winning it a record-breaking seven times.\\n* Messi has also had a successful international career, leading Argentina to the final of the 2020 Copa America. However, he and his team lost to Brazil in the final.\\n* In addition to his on-field success, Messi is known for his charitable work off the field. He has supported various causes, including education and healthcare initiatives.\\n\\nThese sentences/paragraphs mention Messi and provide information about his career, achievements, and philanthropic efforts.\""
      ]
     },
     "execution_count": 16,
     "metadata": {},
     "output_type": "execute_result"
    }
   ],
   "source": [
    "processed_text"
   ]
  }
 ],
 "metadata": {
  "kernelspec": {
   "display_name": "projenv",
   "language": "python",
   "name": "python3"
  },
  "language_info": {
   "codemirror_mode": {
    "name": "ipython",
    "version": 3
   },
   "file_extension": ".py",
   "mimetype": "text/x-python",
   "name": "python",
   "nbconvert_exporter": "python",
   "pygments_lexer": "ipython3",
   "version": "3.12.0"
  }
 },
 "nbformat": 4,
 "nbformat_minor": 5
}
