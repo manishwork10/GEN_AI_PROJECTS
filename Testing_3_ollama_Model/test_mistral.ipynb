{
 "cells": [
  {
   "cell_type": "code",
   "execution_count": 1,
   "id": "d01daccf",
   "metadata": {},
   "outputs": [
    {
     "name": "stdout",
     "output_type": "stream",
     "text": [
      "Welcome to Simple-Mistral-Q&A\n",
      "Type 'bye' to quit.\n",
      "Exiting. Goodbye!\n"
     ]
    }
   ],
   "source": [
    "import requests\n",
    "import json\n",
    "import time\n",
    "\n",
    "def get_mistral_response(prompt, model=\"mistral\"):\n",
    "    url = \"http://localhost:11434/api/generate\"\n",
    "    headers = {\"Content-Type\": \"application/json\"}\n",
    "    data = {\n",
    "        \"model\": model,\n",
    "        \"prompt\": prompt,\n",
    "        \"stream\": False\n",
    "    }\n",
    "\n",
    "    try:\n",
    "\n",
    "        response = requests.post(url, headers=headers, data=json.dumps(data))\n",
    "        response.raise_for_status()\n",
    "\n",
    "\n",
    "\n",
    "        result = response.json()\n",
    "        return result[\"response\"]\n",
    "    except Exception as e:\n",
    "        return f\"Error: {e}. Make sure Ollama is running and '{model}' is pulled.\", -1\n",
    "\n",
    "# User Interaction Loop\n",
    "print(\"Welcome to Simple-Mistral-Q&A\")\n",
    "print(\"Type 'bye' to quit.\")\n",
    "\n",
    "while True:\n",
    "    user_input = input(\"\\nAsk a question: \")\n",
    "\n",
    "    if user_input.lower() == 'bye':\n",
    "        print(\"Exiting. Goodbye!\")\n",
    "        break\n",
    "\n",
    "    \n",
    "    answer = get_mistral_response(user_input)\n",
    "    print(f\"Answer: {answer}\")\n",
    "\n"
   ]
  },
  {
   "cell_type": "code",
   "execution_count": 2,
   "id": "b659a91e",
   "metadata": {},
   "outputs": [],
   "source": [
    "import os\n",
    "import requests\n",
    "from urllib.robotparser import RobotFileParser\n",
    "from urllib.parse import urlparse\n",
    "from googlesearch import search\n",
    "import time\n",
    "import re\n",
    "\n",
    "def is_scraping_allowed(url, user_agent=\"*\"):\n",
    "    try:\n",
    "        parsed = urlparse(url)\n",
    "        robots_url = f\"{parsed.scheme}://{parsed.netloc}/robots.txt\"\n",
    "        rp = RobotFileParser()\n",
    "        rp.set_url(robots_url)\n",
    "        rp.read()\n",
    "        return rp.can_fetch(user_agent, url)\n",
    "    except:\n",
    "        return False  # Safer to assume not allowed\n",
    "\n",
    "def sanitize_filename(url):\n",
    "    \"\"\"Create a safe filename from a URL.\"\"\"\n",
    "    filename = re.sub(r'\\W+', '_', url)\n",
    "    return filename[:100] + \".html\"\n",
    "\n",
    "def collect_raw_html(query, num_results=5):\n",
    "    \"\"\"\n",
    "    Searches Google for the query, fetches raw HTML from allowed sites,\n",
    "    and saves them in a folder called 'html_ollama_folder'.\n",
    "    \"\"\"\n",
    "    # Create folder if it doesn't exist\n",
    "    folder_name = \"html_mistral_folder\"\n",
    "    os.makedirs(folder_name, exist_ok=True)\n",
    "\n",
    "    collected = 0\n",
    "    seen = set()\n",
    "    search_results = list(search(query, num_results=30))  # over-fetch\n",
    "    url_to_file = {}\n",
    "\n",
    "    for url in search_results:\n",
    "        if collected >= num_results:\n",
    "            break\n",
    "        if url in seen:\n",
    "            continue\n",
    "        seen.add(url)\n",
    "\n",
    "        print(f\"\\n🔍 Trying: {url}\")\n",
    "\n",
    "        if not is_scraping_allowed(url):\n",
    "            print(f\"❌ Not allowed by robots.txt: {url}\")\n",
    "            continue\n",
    "\n",
    "        try:\n",
    "            response = requests.get(url, headers={\"User-Agent\": \"Mozilla/5.0\"}, timeout=10)\n",
    "            if response.status_code == 200:\n",
    "                filename = sanitize_filename(url)\n",
    "                file_path = os.path.join(folder_name, filename)\n",
    "                url_to_file[url] = file_path\n",
    "\n",
    "                with open(file_path, \"w\", encoding=\"utf-8\") as f:\n",
    "                    f.write(response.text)\n",
    "\n",
    "                print(f\"✅ Saved: {file_path}\")\n",
    "                collected += 1\n",
    "                time.sleep(1)  # Be polite\n",
    "            else:\n",
    "                print(f\"⚠️ Status code {response.status_code}: {url}\")\n",
    "        except Exception as e:\n",
    "            print(f\"🚫 Error fetching {url}: {e}\")\n",
    "\n",
    "    print(f\"\\n✅ Total collected: {collected}/{num_results}\")\n",
    "    return url_to_file\n",
    "\n"
   ]
  },
  {
   "cell_type": "code",
   "execution_count": 6,
   "id": "e1d3c051",
   "metadata": {},
   "outputs": [
    {
     "name": "stdout",
     "output_type": "stream",
     "text": [
      "\n",
      "🔍 Trying: https://www.beinsports.com/en-us/soccer/la-liga/articles/could-messi-return-to-barcelona-in-2026-before-the-world-cup-2025-06-30\n",
      "❌ Not allowed by robots.txt: https://www.beinsports.com/en-us/soccer/la-liga/articles/could-messi-return-to-barcelona-in-2026-before-the-world-cup-2025-06-30\n",
      "\n",
      "🔍 Trying: https://en.wikipedia.org/wiki/Lionel_Messi\n",
      "✅ Saved: html_mistral_folder/https_en_wikipedia_org_wiki_Lionel_Messi.html\n",
      "\n",
      "🔍 Trying: https://www.transfermarkt.com/lionel-messi/profil/spieler/28003\n",
      "❌ Not allowed by robots.txt: https://www.transfermarkt.com/lionel-messi/profil/spieler/28003\n",
      "\n",
      "🔍 Trying: https://x.com/WeAreMessi?ref_src=twsrc%5Egoogle%7Ctwcamp%5Eserp%7Ctwgr%5Eauthor\n",
      "❌ Not allowed by robots.txt: https://x.com/WeAreMessi?ref_src=twsrc%5Egoogle%7Ctwcamp%5Eserp%7Ctwgr%5Eauthor\n",
      "\n",
      "🔍 Trying: http://google.com/search?tbm=isch&q=Lionel+Messi\n",
      "❌ Not allowed by robots.txt: http://google.com/search?tbm=isch&q=Lionel+Messi\n",
      "\n",
      "🔍 Trying: https://www.instagram.com/leomessi/\n",
      "❌ Not allowed by robots.txt: https://www.instagram.com/leomessi/\n",
      "\n",
      "🔍 Trying: https://www.britannica.com/biography/Lionel-Messi\n",
      "✅ Saved: html_mistral_folder/https_www_britannica_com_biography_Lionel_Messi.html\n",
      "\n",
      "🔍 Trying: https://www.espn.com/soccer/story/_/id/45627646/zlatan-ibrahimovic-lionel-messi-plays-statues-inter-miami\n",
      "✅ Saved: html_mistral_folder/https_www_espn_com_soccer_story___id_45627646_zlatan_ibrahimovic_lionel_messi_plays_statues_inter_mi.html\n",
      "\n",
      "🔍 Trying: https://www.intermiamicf.com/players/lionel-messi/\n",
      "✅ Saved: html_mistral_folder/https_www_intermiamicf_com_players_lionel_messi_.html\n",
      "\n",
      "🔍 Trying: https://messi.com/en/honours-and-achievements/\n",
      "❌ Not allowed by robots.txt: https://messi.com/en/honours-and-achievements/\n",
      "\n",
      "🔍 Trying: https://www.forbes.com/profile/lionel-messi/\n",
      "❌ Not allowed by robots.txt: https://www.forbes.com/profile/lionel-messi/\n",
      "\n",
      "🔍 Trying: /search?num=32\n",
      "❌ Not allowed by robots.txt: /search?num=32\n",
      "\n",
      "🔍 Trying: https://www.espn.com/soccer/player/_/id/45843/lionel-messi\n",
      "✅ Saved: html_mistral_folder/https_www_espn_com_soccer_player___id_45843_lionel_messi.html\n",
      "\n",
      "✅ Total collected: 5/5\n"
     ]
    }
   ],
   "source": [
    "# Collect 5 raw HTML pages related to Messi\n",
    "html_pages = collect_raw_html(\"Messi\", num_results=5)\n",
    "\n",
    "\n"
   ]
  },
  {
   "cell_type": "code",
   "execution_count": 7,
   "id": "90eff999",
   "metadata": {},
   "outputs": [
    {
     "name": "stdout",
     "output_type": "stream",
     "text": [
      "html_mistral_folder/https_en_wikipedia_org_wiki_Lionel_Messi.html\n",
      "html_mistral_folder/https_en_wikipedia_org_wiki_Lionel_Messi.html\n",
      "\n",
      "html_mistral_folder/https_www_britannica_com_biography_Lionel_Messi.html\n",
      "\n",
      "html_mistral_folder/https_www_espn_com_soccer_story___id_45627646_zlatan_ibrahimovic_lionel_messi_plays_statues_inter_mi.html\n",
      "\n",
      "html_mistral_folder/https_www_intermiamicf_com_players_lionel_messi_.html\n",
      "\n",
      "html_mistral_folder/https_www_espn_com_soccer_player___id_45843_lionel_messi.html\n",
      "\n",
      "\n"
     ]
    }
   ],
   "source": [
    "# Get the first HTML content from the dictionary and print 500 chars\n",
    "first_html = next(iter(html_pages.values()))\n",
    "print(first_html[:500])\n",
    "# But the given system prompt will be in string, but the html content is in dictionary so transfering it into string.\n",
    "all_html_combined = \"\"\n",
    "\n",
    "for html in html_pages.values():\n",
    "    all_html_combined += html + \"\\n\\n\"  # Optional spacing between pages\n",
    "\n",
    "# Now you can use it like a normal string\n",
    "print(all_html_combined[:500])\n"
   ]
  },
  {
   "cell_type": "code",
   "execution_count": 8,
   "id": "c5c5b21b",
   "metadata": {},
   "outputs": [],
   "source": [
    "all_content= \"From the following HTML content, first remove all HTML tags to extract only the clean, readable text. Then, identify and extract only the sentences or paragraphs that mention the keyword 'Messi'. Ignore any unrelated content or HTML markup. Return a concise and focused textual summary containing only relevant information about Messi\" + all_html_combined"
   ]
  },
  {
   "cell_type": "code",
   "execution_count": 9,
   "id": "0f124f93",
   "metadata": {},
   "outputs": [],
   "source": [
    "processed_text= get_mistral_response(all_content)"
   ]
  },
  {
   "cell_type": "code",
   "execution_count": 10,
   "id": "4fdb7755",
   "metadata": {},
   "outputs": [
    {
     "data": {
      "text/plain": [
       "\" After removing HTML tags, I've extracted the following text snippets that mention 'Messi':\\n\\n1. Lionel Messi is an Argentine professional footballer who plays as a forward for Paris Saint-Germain and captains the Argentina national team. (From Wikipedia)\\n\\n2. Messi and Zlatan Ibrahimovic share the same statue at Milan's San Siro stadium. (From ESPN)\\n\\n3. Lionel Messi is a player for Inter Miami CF, an American professional soccer club based in Miami, Florida. (From intermiamicf.com)\\n\\n4. Lionel Messi is an Argentine footballer who plays as a forward for Paris Saint-Germain and captains the Argentina national team. He is widely regarded as one of the greatest players of all time. (From ESPN)\\n\\nIn summary, Lionel Messi is an Argentine professional footballer currently playing as a forward for Paris Saint-Germain and captain of the Argentina national team. He has been widely recognized as one of the greatest players in soccer history. Additionally, he shares a statue with Zlatan Ibrahimovic at Milan's San Siro stadium, and he is also a player for Inter Miami CF, an American professional soccer club based in Miami, Florida.\""
      ]
     },
     "execution_count": 10,
     "metadata": {},
     "output_type": "execute_result"
    }
   ],
   "source": [
    "processed_text"
   ]
  }
 ],
 "metadata": {
  "kernelspec": {
   "display_name": "projenv",
   "language": "python",
   "name": "python3"
  },
  "language_info": {
   "codemirror_mode": {
    "name": "ipython",
    "version": 3
   },
   "file_extension": ".py",
   "mimetype": "text/x-python",
   "name": "python",
   "nbconvert_exporter": "python",
   "pygments_lexer": "ipython3",
   "version": "3.12.0"
  }
 },
 "nbformat": 4,
 "nbformat_minor": 5
}
